{
 "cells": [
  {
   "cell_type": "code",
   "execution_count": 41,
   "id": "short-tourism",
   "metadata": {},
   "outputs": [],
   "source": [
    "import os\n",
    "import glob\n",
    "import pandas as pd"
   ]
  },
  {
   "cell_type": "code",
   "execution_count": 42,
   "id": "abstract-daughter",
   "metadata": {},
   "outputs": [],
   "source": [
    "train_paths = glob.glob(\"norm_data_train_uniform*\")\n",
    "test_paths = glob.glob(\"norm_data_test_uniform*\")"
   ]
  },
  {
   "cell_type": "code",
   "execution_count": 43,
   "id": "hundred-windsor",
   "metadata": {},
   "outputs": [],
   "source": [
    "train_df = pd.DataFrame()\n",
    "test_df = pd.DataFrame()"
   ]
  },
  {
   "cell_type": "code",
   "execution_count": 44,
   "id": "basic-retirement",
   "metadata": {},
   "outputs": [],
   "source": [
    "for path in train_paths:\n",
    "    train_df = pd.concat([train_df, pd.read_csv(path, header=None)])\n",
    "train_df.reset_index(drop=True)\n",
    "mean = train_df.mean(axis=0)[:6]\n",
    "std = train_df.std(axis=0)[:6]\n",
    "np.save('mean.npy', [_ for _ in mean[:]])\n",
    "np.save('std.npy', [_ for _ in std[:]])\n",
    "train_df[:, :6] = (train_df[:, :6]-mean)/(std)\n",
    "train_df.to_csv('norm_data_train_uniform_ext_combined.csv', header=False, index=False)\n",
    "\n",
    "\n",
    "for path in test_paths:\n",
    "    test_df = pd.concat([test_df, pd.read_csv(path, header=None)])\n",
    "test_df.reset_index(drop=True)\n",
    "mean = test_df.mean(axis=0)[:6]\n",
    "std = test_df.std(axis=0)[:6]\n",
    "np.save('mean_test.npy', [_ for _ in mean[:]])\n",
    "np.save('std_test.npy', [_ for _ in std[:]])\n",
    "test_df[:, :6] = (test_df[:, :6]-mean)/(std)\n",
    "\n",
    "test_df.to_csv('norm_data_test_uniform_ext_combined.csv', header=False, index=False)"
   ]
  },
  {
   "cell_type": "code",
   "execution_count": null,
   "id": "mental-hearts",
   "metadata": {},
   "outputs": [],
   "source": [
    "\n",
    "\n",
    "\n"
   ]
  }
 ],
 "metadata": {
  "kernelspec": {
   "display_name": "Python 3",
   "language": "python",
   "name": "python3"
  },
  "language_info": {
   "codemirror_mode": {
    "name": "ipython",
    "version": 3
   },
   "file_extension": ".py",
   "mimetype": "text/x-python",
   "name": "python",
   "nbconvert_exporter": "python",
   "pygments_lexer": "ipython3",
   "version": "3.7.3"
  }
 },
 "nbformat": 4,
 "nbformat_minor": 5
}
